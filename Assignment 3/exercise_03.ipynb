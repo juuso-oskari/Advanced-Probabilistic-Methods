{
 "cells": [
  {
   "cell_type": "markdown",
   "metadata": {
    "deletable": false,
    "editable": false,
    "nbgrader": {
     "cell_type": "markdown",
     "checksum": "d2d7f17c6c790de73b8150205ef2abef",
     "grade": false,
     "grade_id": "cell-81c5a400584e4a8f",
     "locked": true,
     "schema_version": 3,
     "solution": false,
     "task": false
    }
   },
   "source": [
    "## CS-E4820 Machine Learning: Advanced Probabilistic Methods (Spring 2022)\n",
    "\n",
    "Pekka Marttinen, Prayag Tiwari, Vishnu Raj, Tianyu Cui, Yogesh Kumar, Antti Pöllänen, Louis Filstroff, Alex Aushev, Zheyang Shen, Nikitin Alexander , Sebastiaan De Peuter.\n",
    "\n",
    "## Exercise 3, due on Tuesday February 8 at 23:50.\n",
    "\n",
    "### Contents\n",
    "1. Problem 1: Poisson-Gamma\n",
    "2. Problem 2: Multivariate Gaussian\n",
    "3. Problem 3: Posterior of regression weights"
   ]
  },
  {
   "cell_type": "code",
   "execution_count": null,
   "metadata": {},
   "outputs": [],
   "source": []
  },
  {
   "cell_type": "markdown",
   "metadata": {
    "deletable": false,
    "editable": false,
    "nbgrader": {
     "cell_type": "markdown",
     "checksum": "38bb2e5ebde49e1760a076b099d6e5a6",
     "grade": false,
     "grade_id": "cell-573bbaa2ef327be0",
     "locked": true,
     "points": 2,
     "schema_version": 3,
     "solution": false,
     "task": true
    }
   },
   "source": [
    "## Problem 1: Poisson-Gamma\n",
    "\n",
    "Suppose you have $N$ i.i.d. observations $\\mathbf{x}= \\{x_i\\}_{i=1}^N$ from a $\\operatorname{Poisson}(\\lambda)$ distribution with a rate parameter $\\lambda$ that has a conjugate prior \n",
    "\n",
    "$$\\lambda \\sim \\operatorname{Gamma}(a,b)$$\n",
    "\n",
    "with the shape and rate hyperparameters $a$ and $b$. Derive the posterior distribution $\\lambda|\\bf{x}$.\n",
    "\n",
    "Write your solutions in LateX or attach a picture in the answer cell provided below. You can add a picture using the command ```!(imagename_in_the_folder.jpg)```. Latex in here works similarly as you would write it normally! You can use some of the definitions from the exercise description as a reference. The list of valid Latex commands in Jypyter notebook can be found here: http://www.onemathematicalcat.org/MathJaxDocumentation/TeXSyntax.htm\n",
    "\n",
    "\n"
   ]
  },
  {
   "cell_type": "markdown",
   "metadata": {},
   "source": [
    "![](1.jpg)"
   ]
  },
  {
   "cell_type": "markdown",
   "metadata": {
    "deletable": false,
    "editable": false,
    "nbgrader": {
     "cell_type": "markdown",
     "checksum": "c2d1bd8470ba33c5aa2596654e3cefbc",
     "grade": false,
     "grade_id": "cell-7fdfccb96ae5c3d1",
     "locked": true,
     "points": 2,
     "schema_version": 3,
     "solution": false,
     "task": true
    }
   },
   "source": [
    "## Problem 2: Multivariate Gaussian\n",
    "\n",
    "Suppose we have $N$ i.i.d. observations $\\mathbf{X} = \\{\\mathbf{x}_i\\}_{i=1}^N$ from a multivariate Gaussian distribution $$\\mathbf{x}_i \\mid \\boldsymbol{\\mu} \\sim \\mathcal{N}(\\boldsymbol{\\mu}, \\boldsymbol{\\Sigma})$$ with unknown mean parameter $\\boldsymbol{\\mu}$  and a known covariance matrix $\\boldsymbol{\\Sigma}$. As prior information on the mean parameter we have $$ \\boldsymbol{\\mu} \\sim \\mathcal{N}(\\mathbf{m_0}, \\mathbf{S_0}). $$\n",
    "\n",
    "__(a)__ Derive the posterior distribution $p(\\boldsymbol{\\mu}|\\mathbf{X})$ of the mean parameter $\\boldsymbol{\\mu}$. Write your solution in LateX or attach a picture of the solution in the cell below.\n",
    "\n",
    "__(b)__ Compare the Bayesian estimate (posterior mean) to the maximum likelihood estimate by generating $N=10$ observations from the bivariate Gaussian \n",
    "        $$\\mathcal{N}\\left(\\begin{bmatrix}0 \\\\ 0\\end{bmatrix}, \\begin{bmatrix}1 & 0 \\\\ 0 & 1\\end{bmatrix}\\right).$$\n",
    "For this you can use the Python function [numpy.random.normal](https://docs.scipy.org/doc/numpy/reference/generated/numpy.random.normal.html), making use of the fact that the elements of the bivariate random vectors are independent. In the Bayesian case, use the prior with $\\mathbf{m_0} = [0,0]^T$ and $\\mathbf{S_0} = [\\begin{smallmatrix}0.1 & 0 \\\\ 0 & 0.1\\end{smallmatrix}]$. Report both estimates. Is the Bayesian estimate closer to the true value $\\boldsymbol{\\mu} = [0,0]^T$? Use the code template given below (after the answer cell) to complete your answer.\n",
    "\n",
    "Write your solutions to __(a)__ and __(b)__ in LateX or attach a picture in the answer cell provided below. \n",
    "\n"
   ]
  },
  {
   "cell_type": "markdown",
   "metadata": {},
   "source": [
    "Here A is treated as some constant\n",
    "![Here A is some constant](2a.jpg)"
   ]
  },
  {
   "cell_type": "code",
   "execution_count": 23,
   "metadata": {
    "deletable": false,
    "nbgrader": {
     "cell_type": "code",
     "checksum": "af88913931d4649db8324917756a5b72",
     "grade": false,
     "grade_id": "cell-e6a09ef8bf1f72d3",
     "locked": false,
     "schema_version": 3,
     "solution": true,
     "task": false
    }
   },
   "outputs": [
    {
     "name": "stdout",
     "output_type": "stream",
     "text": [
      "[0.15818358 0.52005101]\n",
      "[0.07909179 0.26002551]\n"
     ]
    }
   ],
   "source": [
    "# template for 2(b)\n",
    "import numpy as np\n",
    "from numpy.linalg import inv\n",
    "from scipy.stats import multivariate_normal\n",
    "from scipy.stats import norm\n",
    "\n",
    "S0 = np.array([[0.1, 0],[0, 0.1]])\n",
    "Sigma = np.array([[1, 0],[0, 1]])\n",
    "N = 10\n",
    "mu = np.array([0, 0]).T\n",
    "m0 = np.array([0, 0]).T\n",
    "#print(np.shape(inv(S0)@np.sum(x, axis=0).T))\n",
    "#x, y = np.random.multivariate_normal(mean, cov, 5000).T\n",
    "\n",
    "# Sample N bivariate normal vectors\n",
    "# compute MLE and also the posterior mean solution\n",
    "\n",
    "x = multivariate_normal.rvs(mu, Sigma, N)  #EXERCISE\n",
    "mle = np.mean(x, axis=0) #EXERCISE, this is just the mean\n",
    "posterior_mean = inv(N*inv(Sigma) + inv(S0))@(inv(S0)@m0 + inv(Sigma)@np.sum(x, axis=0).T) #EXERCISE \n",
    "\n",
    "# YOUR CODE HERE\n",
    "#raise NotImplementedError()\n",
    "\n",
    "print(mle)\n",
    "print(posterior_mean)"
   ]
  },
  {
   "cell_type": "markdown",
   "metadata": {},
   "source": [
    "The Bayesian estimate is closer"
   ]
  },
  {
   "cell_type": "markdown",
   "metadata": {
    "deletable": false,
    "editable": false,
    "nbgrader": {
     "cell_type": "markdown",
     "checksum": "ddf1e85bf2fabec6a07c3676a5945499",
     "grade": false,
     "grade_id": "cell-6f265c79745ea700",
     "locked": true,
     "points": 2,
     "schema_version": 3,
     "solution": false,
     "task": true
    }
   },
   "source": [
    "# Problem 3: Posterior of regression weights\n",
    "\n",
    "Suppose $y_{i}=\\mathbf{w}^{T}\\mathbf{x}_{i}+\\epsilon_{i},$ for $i=1,\\ldots,n,$ where $\\epsilon_{i}\\sim \\mathcal{N}(0,\\beta^{-1})$. Assume a prior $$\\mathbf{w} \\sim \\mathcal{N} (\\mathbf{0},\\alpha^{-1}\\mathbf{I}).$$ Use 'completing the square' to show that the posterior of $\\mathbf{w}$ is given by $p(\\mathbf{w} \\mid \\mathbf{y}, \\mathbf{x}, \\alpha, \\beta)=\\mathcal{N}(\\mathbf{w} \\mid \\mathbf{m}, \\mathbf{S}),$ where \n",
    "\\begin{align*}\n",
    "    \\mathbf{S} &= \\left( \\alpha \\mathbf{I} + \\beta \\sum_{i=1}^n \\mathbf{x}_i \\mathbf{x}_i^T \\right)^{-1}\\;, \\\\\n",
    "    \\mathbf{m} &= \\beta \\mathbf{S} \\sum_{i=1}^{n} y_i \\mathbf{x}_i.\n",
    "\\end{align*}\n",
    "\n",
    "Write your solution in LateX or attach a picture of the solution in the cell below.\n"
   ]
  },
  {
   "cell_type": "markdown",
   "metadata": {},
   "source": [
    "(Successively drop all the terms that are not dependent on $\\mathbf{w}$, since they can be treated as constant)\n",
    "\n",
    "$p(\\mathbf{w} \\mid \\mathbf{y}, \\mathbf{x}, \\alpha, \\beta) \\propto p(\\mathbf{w} \\mid \\alpha)  p( \\mathbf{y} \\mid \\mathbf{w}, \\mathbf{x}, \\mathbf{b}) = \\mathcal{N}(\\mathbf{w} | 0, \\alpha^{-1}\\mathbf{I}) \\mathcal{N}(\\mathbf{y} | \\mathbf{w}^T\\mathbf{x}, \\beta^{-1}\\mathbf{I}) $\n",
    "\n",
    "$ \\propto exp(-\\frac{\\alpha}{2} \\mathbf{w}^T\\mathbf{w}) exp(-\\frac{\\beta}{2} (\\mathbf{y} - \\mathbf{w}^T\\mathbf{x})^T(\\mathbf{y} - \\mathbf{w}^T\\mathbf{x}))$\n",
    "\n"
   ]
  },
  {
   "cell_type": "markdown",
   "metadata": {},
   "source": [
    "$ = exp(-\\frac{\\alpha}{2} \\mathbf{w}^T\\mathbf{w}-\\frac{\\beta}{2} (\\mathbf{y}^T \\mathbf{y} - 2 \\mathbf{x}^T \\mathbf{w}\\mathbf{y} + \\mathbf{w}^T \\mathbf{x}\\mathbf{x}^T \\mathbf{w} ) )$"
   ]
  },
  {
   "cell_type": "markdown",
   "metadata": {},
   "source": [
    "$\\propto exp(-\\frac{\\alpha}{2} \\mathbf{w}^T\\mathbf{w}-\\frac{\\beta}{2} ( - 2 \\mathbf{x}^T \\mathbf{w}\\mathbf{y} + \\mathbf{x}^T \\mathbf{w}\\mathbf{w}^T \\mathbf{x} ) )$"
   ]
  },
  {
   "cell_type": "markdown",
   "metadata": {},
   "source": [
    "$ \\propto exp(-\\frac{1}{2}(\\mathbf{w}^T(\\alpha \\mathbf{I} + \\beta \\mathbf{x}^T \\mathbf{x})\\mathbf{w} - 2\\beta \\mathbf{w} \\mathbf{x}^T \\mathbf{y})) $"
   ]
  },
  {
   "cell_type": "markdown",
   "metadata": {},
   "source": [
    "Lets see if we can bring the above posterior into the form of the given gaussian (terms not depending on $\\mathbf{w}$ dropped):\n",
    "\n",
    "$ \\mathcal{N}(\\mathbf{w} \\mid \\mathbf{m}, \\mathbf{S}) \\propto -\\frac{1}{2}(\\mathbf{w} - \\mathbf{m})^T\\mathbf{S}^{-1}(\\mathbf{w} - \\mathbf{m})$, where\n",
    "\n",
    "$\n",
    "\\begin{align*}\n",
    "    \\mathbf{S} &= \\left( \\alpha \\mathbf{I} + \\beta \\sum_{i=1}^n \\mathbf{x}_i \\mathbf{x}_i^T \\right)^{-1}\\;, \\\\\n",
    "    \\mathbf{m} &= \\beta \\mathbf{S} \\sum_{i=1}^{n} y_i \\mathbf{x}_i.\n",
    "\\end{align*}\n",
    "$\n",
    "\n",
    "Lets use 'completing the square' trick on the expression:\n",
    "\n",
    "$-\\frac{1}{2}(\\mathbf{w}^T(\\alpha \\mathbf{I} + \\beta \\mathbf{x}^T \\mathbf{x})\\mathbf{w} - 2\\beta \\mathbf{w} \\mathbf{x}^T \\mathbf{y})$"
   ]
  },
  {
   "cell_type": "markdown",
   "metadata": {},
   "source": [
    "We can see that this matches the starting point expression of the trick given in slide 22/36 of lecture 3:\n",
    "\n",
    "$-\\frac{1}{2}(\\mathbf{w}^T\\mathbf{A}\\mathbf{w} - 2\\mathbf{b}^T \\mathbf{w})$, with $A = -(\\alpha \\mathbf{I} + \\beta \\mathbf{x}^T \\mathbf{x})$ and $b = - \\beta \\mathbf{x}^T \\mathbf{y}$"
   ]
  },
  {
   "cell_type": "markdown",
   "metadata": {},
   "source": [
    "From the same slides, we know that this expression completes into:\n",
    "\n",
    "$\\frac{1}{2}(\\mathbf{w} - \\mathbf{A}^{-1}b)^T\\mathbf{A}(\\mathbf{w} - \\mathbf{A}^{-1}b) - constant$"
   ]
  },
  {
   "cell_type": "markdown",
   "metadata": {},
   "source": [
    "$ \\propto \\frac{1}{2}[ \\mathbf{w} - (\\alpha \\mathbf{I} + \\beta \\mathbf{x}^T \\mathbf{x})^{-1}\\beta \\mathbf{x}^T \\mathbf{y} ] ^T [-(\\alpha \\mathbf{I} + \\beta \\mathbf{x}^T \\mathbf{x})][\\mathbf{w} - (\\alpha \\mathbf{I} + \\beta \\mathbf{x}^T \\mathbf{x})^{-1}\\beta \\mathbf{x}^T \\mathbf{y}]$ \n",
    "\n",
    "$ = -\\frac{1}{2}[ \\mathbf{w} - \\beta (\\alpha \\mathbf{I} + \\beta \\mathbf{x}^T \\mathbf{x})^{-1} \\mathbf{x}^T \\mathbf{y} ] ^T [\\alpha \\mathbf{I} + \\beta \\mathbf{x}^T \\mathbf{x}][\\mathbf{w} - \\beta (\\alpha \\mathbf{I} + \\beta \\mathbf{x}^T \\mathbf{x})^{-1} \\mathbf{x}^T \\mathbf{y}] $\n",
    "\n",
    "which matches the given gaussian"
   ]
  }
 ],
 "metadata": {
  "kernelspec": {
   "display_name": "Python 3",
   "language": "python",
   "name": "python3"
  },
  "language_info": {
   "codemirror_mode": {
    "name": "ipython",
    "version": 3
   },
   "file_extension": ".py",
   "mimetype": "text/x-python",
   "name": "python",
   "nbconvert_exporter": "python",
   "pygments_lexer": "ipython3",
   "version": "3.8.6"
  },
  "varInspector": {
   "cols": {
    "lenName": 16,
    "lenType": 16,
    "lenVar": 40
   },
   "kernels_config": {
    "python": {
     "delete_cmd_postfix": "",
     "delete_cmd_prefix": "del ",
     "library": "var_list.py",
     "varRefreshCmd": "print(var_dic_list())"
    },
    "r": {
     "delete_cmd_postfix": ") ",
     "delete_cmd_prefix": "rm(",
     "library": "var_list.r",
     "varRefreshCmd": "cat(var_dic_list()) "
    }
   },
   "types_to_exclude": [
    "module",
    "function",
    "builtin_function_or_method",
    "instance",
    "_Feature"
   ],
   "window_display": false
  }
 },
 "nbformat": 4,
 "nbformat_minor": 4
}
